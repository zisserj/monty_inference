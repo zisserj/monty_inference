{
  "cells": [
    {
      "attachments": {},
      "cell_type": "markdown",
      "metadata": {
        "colab_type": "text",
        "id": "view-in-github"
      },
      "source": [
        "<a href=\"https://colab.research.google.com/github/zisserj/monty_inference/blob/master/monty_BN_and_comparison.ipynb\" target=\"_parent\"><img src=\"https://colab.research.google.com/assets/colab-badge.svg\" alt=\"Open In Colab\"/></a>"
      ]
    },
    {
      "cell_type": "code",
      "execution_count": 1,
      "metadata": {
        "colab": {
          "base_uri": "https://localhost:8080/"
        },
        "id": "8E4PAK5FPgRE",
        "outputId": "2c55f5a5-96e7-431c-c1b6-e0848ebc4432"
      },
      "outputs": [
        {
          "name": "stdout",
          "output_type": "stream",
          "text": [
            "\u001b[?25l     \u001b[90m━━━━━━━━━━━━━━━━━━━━━━━━━━━━━━━━━━━━━━━━\u001b[0m \u001b[32m0.0/90.4 kB\u001b[0m \u001b[31m?\u001b[0m eta \u001b[36m-:--:--\u001b[0m\r\u001b[2K     \u001b[90m━━━━━━━━━━━━━━━━━━━━━━━━━━━━━━━━━━━━━━━━\u001b[0m \u001b[32m90.4/90.4 kB\u001b[0m \u001b[31m3.0 MB/s\u001b[0m eta \u001b[36m0:00:00\u001b[0m\n",
            "\u001b[?25h  Preparing metadata (setup.py) ... \u001b[?25l\u001b[?25hdone\n",
            "\u001b[2K     \u001b[90m━━━━━━━━━━━━━━━━━━━━━━━━━━━━━━━━━━━━━━\u001b[0m \u001b[32m154.7/154.7 kB\u001b[0m \u001b[31m10.7 MB/s\u001b[0m eta \u001b[36m0:00:00\u001b[0m\n",
            "\u001b[?25h  Building wheel for apricot-select (setup.py) ... \u001b[?25l\u001b[?25hdone\n"
          ]
        }
      ],
      "source": [
        "!pip install pomegranate -q"
      ]
    },
    {
      "cell_type": "code",
      "execution_count": 2,
      "metadata": {
        "id": "UvbWuYnR804N"
      },
      "outputs": [],
      "source": [
        "from pomegranate import distributions\n",
        "from pomegranate.bayesian_network import BayesianNetwork\n",
        "import torch\n",
        "import numpy as np\n",
        "import time"
      ]
    },
    {
      "cell_type": "code",
      "execution_count": 30,
      "metadata": {
        "id": "kZB9xPo9BpkN"
      },
      "outputs": [],
      "source": [
        "doorsNums = [i for i in range(10, 500, 20)]"
      ]
    },
    {
      "cell_type": "code",
      "execution_count": 4,
      "metadata": {
        "id": "s5aDS1YGP4pl"
      },
      "outputs": [],
      "source": [
        "\n",
        "# following https://github.com/jmschrei/pomegranate/blob/f0b966e8fb0d6cf27b0d83a6f826d739751d91d4/examples/Bayesian_Network_Monty_Hall.ipynb\n",
        "\n",
        "def time_monty_net(num_doors, return_model=False):\n",
        "    time_start = time.perf_counter_ns()\n",
        "\n",
        "    # doors = [f'd{i}' for i in range(1, num_doors+1)] # names, not really needed anymore\n",
        "    door_rate = 1./num_doors\n",
        "    uniform_dist = np.ones([1, num_doors]) * door_rate\n",
        "\n",
        "    guest = distributions.Categorical(uniform_dist)\n",
        "    prize = distributions.Categorical(uniform_dist)\n",
        "\n",
        "    # generate transition matrix\n",
        "    probs_matrix = np.ones((1, num_doors, num_doors, num_doors)) * (1/(num_doors-2))\n",
        "\n",
        "    for g in range(num_doors):\n",
        "        # [0,table,row,column]\n",
        "        np.fill_diagonal(probs_matrix[0,g], 0)\n",
        "        probs_matrix[0,g,g,:] = 1/(num_doors-1)\n",
        "        probs_matrix[0,g,:,g] = 0\n",
        "\n",
        "    monty = distributions.ConditionalCategorical(probs_matrix)\n",
        "\n",
        "    model = BayesianNetwork([guest, prize, monty], [(guest, monty), (prize, monty)])\n",
        "    if return_model:\n",
        "        return model\n",
        "    return time.perf_counter_ns() - time_start "
      ]
    },
    {
      "cell_type": "code",
      "execution_count": 8,
      "metadata": {
        "colab": {
          "base_uri": "https://localhost:8080/"
        },
        "id": "LIohP5rNCj8N",
        "outputId": "46a49a47-aec7-4d80-ae73-4ac758b86ab2"
      },
      "outputs": [
        {
          "data": {
            "text/plain": [
              "[915108.9,\n",
              " 132947.33333333334,\n",
              " 132805.36,\n",
              " 198341.8142857143,\n",
              " 320722.6111111111,\n",
              " 444161.91818181815,\n",
              " 741525.176923077,\n",
              " 1013684.68,\n",
              " 1300417.5294117648,\n",
              " 1633630.0736842104,\n",
              " 1978809.019047619,\n",
              " 2323148.4434782607,\n",
              " 2718441.984,\n",
              " 4117781.437037037,\n",
              " 4822690.017241379,\n",
              " 4201982.264516129,\n",
              " 4890045.2,\n",
              " 5484488.885714286,\n",
              " 6114556.127027027,\n",
              " 7079342.682051282,\n",
              " 9869016.39512195,\n",
              " 8257427.539534884,\n",
              " 8844333.966666667,\n",
              " 10631889.731914893,\n",
              " 10378402.930612246]"
            ]
          },
          "execution_count": 8,
          "metadata": {},
          "output_type": "execute_result"
        }
      ],
      "source": [
        "rate = [time_monty_net(n)/n for n in doorsNums]\n",
        "rate # time per foor in ns"
      ]
    },
    {
      "cell_type": "code",
      "execution_count": 15,
      "metadata": {
        "id": "V6hkIBCTVE13"
      },
      "outputs": [],
      "source": [
        "import matplotlib.pyplot as plt"
      ]
    },
    {
      "cell_type": "code",
      "execution_count": 16,
      "metadata": {
        "id": "pAuV0xamVEIH"
      },
      "outputs": [],
      "source": [
        "rate_bn = rate\n",
        "rate_mcmc = [\n",
        "15096377.9,  4637944.033333333,\n",
        "          2499961.46,          2048550.9,\n",
        "  1910711.8666666667,  1860929.490909091,\n",
        "  1727240.8846153845, 1726806.7333333334,\n",
        "  1746743.9764705882,  1635721.652631579,\n",
        "  1643661.3142857142, 1627464.8347826088,\n",
        "         1546842.284, 1633105.0333333334,\n",
        "  1576822.8862068965, 1582971.2193548386,\n",
        "  1598141.0454545454, 1613627.5685714285,\n",
        "  1555245.9513513513,  1608377.717948718,\n",
        "  1628475.5195121951, 1554221.8488372094,\n",
        "  1523117.9466666668, 1574526.9829787235,\n",
        "  1601492.2285714287]"
      ]
    },
    {
      "cell_type": "code",
      "execution_count": 31,
      "metadata": {
        "colab": {
          "base_uri": "https://localhost:8080/",
          "height": 472
        },
        "id": "3HIvHPSuVX4H",
        "outputId": "1cbc8f1b-6df8-4b02-bef5-f8e07a033d26"
      },
      "outputs": [
        {
          "data": {
            "image/png": "[encoded data removed]",
            "text/plain": [
              "<Figure size 640x480 with 1 Axes>"
            ]
          },
          "metadata": {},
          "output_type": "display_data"
        }
      ],
      "source": [
        "plt.plot(doorsNums, rate_bn, '*', label='Bayesian Network')\n",
        "plt.plot(doorsNums, rate_mcmc, '*', label='Probibalistic programming')\n",
        "plt.title(\"Monty Hall Problem Modeling Benchmark\")\n",
        "plt.legend()\n",
        "plt.xlabel(\"Number of doors\")\n",
        "plt.ylabel(\"Time per door in ns\")\n",
        "plt.grid()\n",
        "plt.show()"
      ]
    },
    {
      "cell_type": "code",
      "execution_count": 12,
      "metadata": {
        "id": "FN-WkjoETccu"
      },
      "outputs": [],
      "source": [
        "model = time_monty_net(3, return_model=True)"
      ]
    },
    {
      "cell_type": "code",
      "execution_count": 13,
      "metadata": {
        "colab": {
          "base_uri": "https://localhost:8080/"
        },
        "id": "TVYKcIF4dAvt",
        "outputId": "a63d53dd-3be6-425c-8bb2-7bc08905627f"
      },
      "outputs": [
        {
          "name": "stderr",
          "output_type": "stream",
          "text": [
            "/usr/local/lib/python3.10/dist-packages/torch/masked/maskedtensor/core.py:156: UserWarning: The PyTorch API of MaskedTensors is in prototype stage and will change in the near future. Please open a Github issue for features requests and see our documentation on the torch.masked module for further information about the project.\n",
            "  warnings.warn((\"The PyTorch API of MaskedTensors is in prototype stage \"\n"
          ]
        },
        {
          "data": {
            "text/plain": [
              "tensor([[2, 1, 0]])"
            ]
          },
          "execution_count": 13,
          "metadata": {},
          "output_type": "execute_result"
        }
      ],
      "source": [
        "X1 = torch.tensor([[2, 1, -1]])\n",
        "\n",
        "X1_masked = torch.masked.MaskedTensor(X1, mask=X1 >= 0)\n",
        "\n",
        "model.predict(X1_masked)"
      ]
    },
    {
      "cell_type": "code",
      "execution_count": null,
      "metadata": {
        "colab": {
          "base_uri": "https://localhost:8080/",
          "height": 347
        },
        "id": "Pexug1zMeupo",
        "outputId": "688f5d04-6bc1-46e1-f552-de3350fd3cc9"
      },
      "outputs": [],
      "source": [
        "X2 = torch.tensor([[2, 1, -1]])\n",
        "X2_masked = torch.masked.MaskedTensor(X2, mask=X2 >= 0)\n",
        "model.probability(X2_masked)"
      ]
    },
    {
      "cell_type": "code",
      "execution_count": 14,
      "metadata": {
        "colab": {
          "base_uri": "https://localhost:8080/"
        },
        "id": "i59h0s5Mhx8F",
        "outputId": "7d183d80-8040-45c9-b79a-1a4ed753b826"
      },
      "outputs": [
        {
          "data": {
            "text/plain": [
              "Parameter containing:\n",
              "tensor([[[0.0000, 0.5000, 0.5000],\n",
              "         [0.0000, 0.0000, 1.0000],\n",
              "         [0.0000, 1.0000, 0.0000]],\n",
              "\n",
              "        [[0.0000, 0.0000, 1.0000],\n",
              "         [0.5000, 0.0000, 0.5000],\n",
              "         [1.0000, 0.0000, 0.0000]],\n",
              "\n",
              "        [[0.0000, 1.0000, 0.0000],\n",
              "         [1.0000, 0.0000, 0.0000],\n",
              "         [0.5000, 0.5000, 0.0000]]], dtype=torch.float64)"
            ]
          },
          "execution_count": 14,
          "metadata": {},
          "output_type": "execute_result"
        }
      ],
      "source": [
        "model.distributions[2].probs[0]"
      ]
    }
  ],
  "metadata": {
    "colab": {
      "provenance": [],
      "toc_visible": true
    },
    "kernelspec": {
      "display_name": "Python 3",
      "name": "python3"
    },
    "language_info": {
      "name": "python"
    }
  },
  "nbformat": 4,
  "nbformat_minor": 0
}
